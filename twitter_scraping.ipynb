{
 "cells": [
  {
   "cell_type": "code",
   "execution_count": 9,
   "metadata": {},
   "outputs": [],
   "source": [
    "import twint\n",
    "import nest_asyncio\n",
    "import pandas as pd\n",
    "from IPython.display import HTML\n",
    "import requests\n",
    "\n",
    "from datetime import timedelta\n",
    "from string import ascii_letters, digits\n",
    "from os import mkdir, path\n",
    "from glob import glob\n",
    "\n",
    "nest_asyncio.apply()"
   ]
  },
  {
   "cell_type": "code",
   "execution_count": 10,
   "metadata": {},
   "outputs": [],
   "source": [
    "def clean_name(dirname):\n",
    "    '''\n",
    "    Validar que el nombre del directorio donde se van a almacenar los jsons por fecha es valido\n",
    "    '''\n",
    "    valid = set(ascii_letters + digits)\n",
    "    return ''.join(a for a in dirname if a in valid)\n",
    "\n",
    "\n",
    "def twint_search(searchterm, since, until, json_name):\n",
    "    '''\n",
    "    Búsqueda de tweets por término y rango de fechas\n",
    "    '''\n",
    "    c = twint.Config()\n",
    "    c.Search = searchterm\n",
    "    c.Since = since\n",
    "    c.Until = until\n",
    "    c.Hide_output = True\n",
    "    c.Store_json = True\n",
    "    c.Output = json_name\n",
    "    c.Debug = True\n",
    "\n",
    "    try:\n",
    "        twint.run.Search(c)    \n",
    "    except (KeyboardInterrupt, SystemExit):\n",
    "        raise\n",
    "    except:\n",
    "        print(\"Problem with %s.\" % since)\n",
    "\n",
    "\n",
    "def twint_loop(searchterm, since, until):\n",
    "    \"\"\"\n",
    "    Almacenar los jsons en el directorio que se va a llamar igual al término de búsqueda\n",
    "    \"\"\"\n",
    "\n",
    "    dirname = clean_name(searchterm)\n",
    "    try:\n",
    "    # Create target Directory\n",
    "        mkdir(dirname)\n",
    "        print(\"Directory\" , dirname ,  \"Created \")\n",
    "    except FileExistsError:\n",
    "        print(\"Directory\" , dirname ,  \"already exists\")\n",
    "\n",
    "    daterange = pd.date_range(since, until)\n",
    "\n",
    "    for start_date in daterange:\n",
    "\n",
    "        since= start_date.strftime(\"%Y-%m-%d\")\n",
    "        until = (start_date + timedelta(days=1)).strftime(\"%Y-%m-%d\")\n",
    "\n",
    "        json_name = '%s.json' % since\n",
    "        json_name = path.join(dirname, json_name)\n",
    "\n",
    "        print('Getting %s ' % since )\n",
    "        twint_search(searchterm, since, until, json_name)\n"
   ]
  },
  {
   "cell_type": "code",
   "execution_count": 11,
   "metadata": {},
   "outputs": [
    {
     "name": "stdout",
     "output_type": "stream",
     "text": [
      "Directory econtwitter Created \n",
      "Getting 2020-01-01 \n",
      "Getting 2020-01-02 \n",
      "Getting 2020-01-03 \n",
      "Getting 2020-01-04 \n",
      "Getting 2020-01-05 \n",
      "Getting 2020-01-06 \n",
      "Getting 2020-01-07 \n",
      "Getting 2020-01-08 \n",
      "Getting 2020-01-09 \n",
      "Getting 2020-01-10 \n",
      "Getting 2020-01-11 \n",
      "Getting 2020-01-12 \n",
      "Getting 2020-01-13 \n",
      "Getting 2020-01-14 \n",
      "Getting 2020-01-15 \n",
      "Getting 2020-01-16 \n",
      "Getting 2020-01-17 \n",
      "Getting 2020-01-18 \n",
      "Getting 2020-01-19 \n",
      "Getting 2020-01-20 \n",
      "Getting 2020-01-21 \n",
      "Getting 2020-01-22 \n",
      "Getting 2020-01-23 \n",
      "Getting 2020-01-24 \n",
      "Getting 2020-01-25 \n",
      "Getting 2020-01-26 \n",
      "Getting 2020-01-27 \n",
      "Getting 2020-01-28 \n",
      "Getting 2020-01-29 \n",
      "Getting 2020-01-30 \n",
      "Getting 2020-01-31 \n",
      "Getting 2020-02-01 \n",
      "Getting 2020-02-02 \n",
      "Getting 2020-02-03 \n",
      "Getting 2020-02-04 \n",
      "Getting 2020-02-05 \n",
      "Getting 2020-02-06 \n",
      "Getting 2020-02-07 \n",
      "Getting 2020-02-08 \n",
      "Getting 2020-02-09 \n",
      "Getting 2020-02-10 \n",
      "Getting 2020-02-11 \n",
      "Getting 2020-02-12 \n",
      "Getting 2020-02-13 \n",
      "Getting 2020-02-14 \n",
      "Getting 2020-02-15 \n",
      "Getting 2020-02-16 \n",
      "Getting 2020-02-17 \n",
      "Getting 2020-02-18 \n",
      "Getting 2020-02-19 \n",
      "Getting 2020-02-20 \n",
      "Getting 2020-02-21 \n",
      "Getting 2020-02-22 \n",
      "Getting 2020-02-23 \n",
      "Getting 2020-02-24 \n",
      "Getting 2020-02-25 \n",
      "Getting 2020-02-26 \n",
      "Getting 2020-02-27 \n",
      "Getting 2020-02-28 \n",
      "Getting 2020-02-29 \n",
      "Getting 2020-03-01 \n",
      "Getting 2020-03-02 \n",
      "Getting 2020-03-03 \n",
      "Getting 2020-03-04 \n",
      "Getting 2020-03-05 \n",
      "Getting 2020-03-06 \n",
      "Getting 2020-03-07 \n",
      "Getting 2020-03-08 \n",
      "Getting 2020-03-09 \n",
      "Getting 2020-03-10 \n",
      "Getting 2020-03-11 \n",
      "Getting 2020-03-12 \n",
      "Getting 2020-03-13 \n",
      "Getting 2020-03-14 \n",
      "Getting 2020-03-15 \n",
      "Getting 2020-03-16 \n",
      "Getting 2020-03-17 \n",
      "Getting 2020-03-18 \n",
      "Getting 2020-03-19 \n",
      "Getting 2020-03-20 \n",
      "Getting 2020-03-21 \n",
      "Getting 2020-03-22 \n",
      "Getting 2020-03-23 \n",
      "Getting 2020-03-24 \n",
      "Getting 2020-03-25 \n",
      "Getting 2020-03-26 \n",
      "Getting 2020-03-27 \n",
      "Getting 2020-03-28 \n",
      "Getting 2020-03-29 \n",
      "Getting 2020-03-30 \n",
      "Getting 2020-03-31 \n",
      "Getting 2020-04-01 \n",
      "Getting 2020-04-02 \n",
      "Getting 2020-04-03 \n",
      "Getting 2020-04-04 \n",
      "Getting 2020-04-05 \n",
      "Getting 2020-04-06 \n",
      "Getting 2020-04-07 \n",
      "Getting 2020-04-08 \n",
      "Getting 2020-04-09 \n",
      "Getting 2020-04-10 \n",
      "Getting 2020-04-11 \n",
      "Getting 2020-04-12 \n",
      "Getting 2020-04-13 \n",
      "Getting 2020-04-14 \n",
      "Getting 2020-04-15 \n",
      "Getting 2020-04-16 \n",
      "Getting 2020-04-17 \n",
      "Getting 2020-04-18 \n",
      "Getting 2020-04-19 \n",
      "Getting 2020-04-20 \n",
      "Getting 2020-04-21 \n",
      "Getting 2020-04-22 \n",
      "Getting 2020-04-23 \n",
      "Getting 2020-04-24 \n",
      "Getting 2020-04-25 \n",
      "Getting 2020-04-26 \n",
      "Getting 2020-04-27 \n",
      "Getting 2020-04-28 \n",
      "Getting 2020-04-29 \n",
      "Getting 2020-04-30 \n",
      "Getting 2020-05-01 \n",
      "Getting 2020-05-02 \n",
      "Getting 2020-05-03 \n",
      "Getting 2020-05-04 \n",
      "Getting 2020-05-05 \n",
      "Getting 2020-05-06 \n",
      "Getting 2020-05-07 \n",
      "Getting 2020-05-08 \n",
      "Getting 2020-05-09 \n",
      "Getting 2020-05-10 \n",
      "Getting 2020-05-11 \n",
      "Getting 2020-05-12 \n",
      "Getting 2020-05-13 \n",
      "Getting 2020-05-14 \n",
      "Getting 2020-05-15 \n",
      "Getting 2020-05-16 \n",
      "Getting 2020-05-17 \n",
      "Getting 2020-05-18 \n",
      "Getting 2020-05-19 \n",
      "Getting 2020-05-20 \n",
      "Getting 2020-05-21 \n",
      "Getting 2020-05-22 \n",
      "Getting 2020-05-23 \n",
      "Getting 2020-05-24 \n",
      "Getting 2020-05-25 \n",
      "Getting 2020-05-26 \n",
      "Getting 2020-05-27 \n",
      "Getting 2020-05-28 \n",
      "Getting 2020-05-29 \n",
      "Getting 2020-05-30 \n",
      "Getting 2020-05-31 \n",
      "Getting 2020-06-01 \n",
      "Getting 2020-06-02 \n",
      "Getting 2020-06-03 \n",
      "Getting 2020-06-04 \n",
      "Getting 2020-06-05 \n",
      "Getting 2020-06-06 \n",
      "Getting 2020-06-07 \n",
      "Getting 2020-06-08 \n",
      "Getting 2020-06-09 \n",
      "Getting 2020-06-10 \n",
      "Getting 2020-06-11 \n",
      "Getting 2020-06-12 \n",
      "Getting 2020-06-13 \n",
      "Getting 2020-06-14 \n",
      "Getting 2020-06-15 \n",
      "Getting 2020-06-16 \n",
      "Getting 2020-06-17 \n",
      "Getting 2020-06-18 \n",
      "Getting 2020-06-19 \n"
     ]
    }
   ],
   "source": [
    "twint_loop('econtwitter', '2020-01-01', '2020-06-19')\n"
   ]
  },
  {
   "cell_type": "code",
   "execution_count": 12,
   "metadata": {},
   "outputs": [],
   "source": [
    "from glob import glob\n",
    "\n",
    "file_names = glob(path.join('econtwitter','*.json'))\n",
    "dfs = [pd.read_json(fn, lines = True) for fn in file_names]\n",
    "df = pd.concat(dfs)\n",
    "\n"
   ]
  },
  {
   "cell_type": "code",
   "execution_count": 13,
   "metadata": {},
   "outputs": [],
   "source": [
    "def show_tweet(link):\n",
    "    '''Display the contents of a tweet. '''\n",
    "    url = 'https://publish.twitter.com/oembed?url=%s' % link\n",
    "    response = requests.get(url)\n",
    "    html = response.json()[\"html\"]\n",
    "    display(HTML(html))"
   ]
  },
  {
   "cell_type": "code",
   "execution_count": 14,
   "metadata": {
    "scrolled": true
   },
   "outputs": [
    {
     "name": "stdout",
     "output_type": "stream",
     "text": [
      "🔥 🔥 🔥 🔥 🔥 🔥 🔥 🔥 🔥 🔥 🔥 🔥 🔥 🔥 🔥 🔥 🔥 🔥 🔥 \n"
     ]
    },
    {
     "data": {
      "text/html": [
       "<blockquote class=\"twitter-tweet\"><p lang=\"en\" dir=\"ltr\">In the 36 months that Trump has now been in office - the US economy has added 6.940.000 jobs.<br><br>Not bad!<br><br>But in the last 36 months of the Obama administration - the US economy added 8,053,000 jobs.<br><br>Much better.<a href=\"https://twitter.com/hashtag/ThanksObama?src=hash&amp;ref_src=twsrc%5Etfw\">#ThanksObama</a> <a href=\"https://twitter.com/hashtag/econtwitter?src=hash&amp;ref_src=twsrc%5Etfw\">#econtwitter</a> <a href=\"https://twitter.com/hashtag/JobsReport?src=hash&amp;ref_src=twsrc%5Etfw\">#JobsReport</a></p>&mdash; Carolyn B. Maloney (@CarolynBMaloney) <a href=\"https://twitter.com/CarolynBMaloney/status/1215656428406550530?ref_src=twsrc%5Etfw\">January 10, 2020</a></blockquote>\n",
       "<script async src=\"https://platform.twitter.com/widgets.js\" charset=\"utf-8\"></script>\n"
      ],
      "text/plain": [
       "<IPython.core.display.HTML object>"
      ]
     },
     "metadata": {},
     "output_type": "display_data"
    },
    {
     "name": "stdout",
     "output_type": "stream",
     "text": [
      "🔥 🔥 🔥 🔥 🔥 🔥 🔥 🔥 🔥 🔥 🔥 🔥 🔥 🔥 🔥 🔥 🔥 🔥 🔥 \n"
     ]
    },
    {
     "data": {
      "text/html": [
       "<blockquote class=\"twitter-tweet\"><p lang=\"en\" dir=\"ltr\">A lot are wondering why US stock markets are increasing while we face one of the worst <a href=\"https://twitter.com/hashtag/crisis?src=hash&amp;ref_src=twsrc%5Etfw\">#crisis</a> since WW2. I think it is because the value of the <a href=\"https://twitter.com/hashtag/money?src=hash&amp;ref_src=twsrc%5Etfw\">#money</a> used to price these assets decreased faster than the intrinsic assets&#39; value. Any comments <a href=\"https://twitter.com/hashtag/EconTwitter?src=hash&amp;ref_src=twsrc%5Etfw\">#EconTwitter</a> ? <a href=\"https://twitter.com/hashtag/economics?src=hash&amp;ref_src=twsrc%5Etfw\">#economics</a> <a href=\"https://twitter.com/hashtag/markets?src=hash&amp;ref_src=twsrc%5Etfw\">#markets</a></p>&mdash; Jonathan Benchimol (@Benchimolium) <a href=\"https://twitter.com/Benchimolium/status/1270973653979738112?ref_src=twsrc%5Etfw\">June 11, 2020</a></blockquote>\n",
       "<script async src=\"https://platform.twitter.com/widgets.js\" charset=\"utf-8\"></script>\n"
      ],
      "text/plain": [
       "<IPython.core.display.HTML object>"
      ]
     },
     "metadata": {},
     "output_type": "display_data"
    },
    {
     "name": "stdout",
     "output_type": "stream",
     "text": [
      "🔥 🔥 🔥 🔥 🔥 🔥 🔥 🔥 🔥 🔥 🔥 🔥 🔥 🔥 🔥 🔥 🔥 🔥 🔥 \n"
     ]
    },
    {
     "data": {
      "text/html": [
       "<blockquote class=\"twitter-tweet\"><p lang=\"en\" dir=\"ltr\">I had to re-write the introduction to a paper, so I diagrammed the introductions of a bunch of development papers in top economics journals. <br><br>This is what I learned: &quot;How to Write the Introduction of Your Development Economics Paper.&quot;<a href=\"https://t.co/ROkh7iFnMf\">https://t.co/ROkh7iFnMf</a> <a href=\"https://twitter.com/hashtag/EconTwitter?src=hash&amp;ref_src=twsrc%5Etfw\">#EconTwitter</a></p>&mdash; David Evans (@DaveEvansPhD) <a href=\"https://twitter.com/DaveEvansPhD/status/1226871317137412096?ref_src=twsrc%5Etfw\">February 10, 2020</a></blockquote>\n",
       "<script async src=\"https://platform.twitter.com/widgets.js\" charset=\"utf-8\"></script>\n"
      ],
      "text/plain": [
       "<IPython.core.display.HTML object>"
      ]
     },
     "metadata": {},
     "output_type": "display_data"
    },
    {
     "name": "stdout",
     "output_type": "stream",
     "text": [
      "🔥 🔥 🔥 🔥 🔥 🔥 🔥 🔥 🔥 🔥 🔥 🔥 🔥 🔥 🔥 🔥 🔥 🔥 🔥 \n"
     ]
    },
    {
     "data": {
      "text/html": [
       "<blockquote class=\"twitter-tweet\"><p lang=\"en\" dir=\"ltr\">Interested in <a href=\"https://twitter.com/hashtag/COVID19?src=hash&amp;ref_src=twsrc%5Etfw\">#COVID19</a> policy research? We created a database of the dates of state policy changes for researchers to start investigating health &amp; economic effects <a href=\"https://twitter.com/hashtag/epitwitter?src=hash&amp;ref_src=twsrc%5Etfw\">#epitwitter</a> <a href=\"https://twitter.com/hashtag/econtwitter?src=hash&amp;ref_src=twsrc%5Etfw\">#econtwitter</a><br><br>Database: <a href=\"https://t.co/NXfBCDPap7\">https://t.co/NXfBCDPap7</a><br><br>Dropbox w/ sources: <a href=\"https://t.co/TA4615jQUL\">https://t.co/TA4615jQUL</a></p>&mdash; Julia Raifman (@JuliaRaifman) <a href=\"https://twitter.com/JuliaRaifman/status/1245416835211812875?ref_src=twsrc%5Etfw\">April 1, 2020</a></blockquote>\n",
       "<script async src=\"https://platform.twitter.com/widgets.js\" charset=\"utf-8\"></script>\n"
      ],
      "text/plain": [
       "<IPython.core.display.HTML object>"
      ]
     },
     "metadata": {},
     "output_type": "display_data"
    },
    {
     "name": "stdout",
     "output_type": "stream",
     "text": [
      "🔥 🔥 🔥 🔥 🔥 🔥 🔥 🔥 🔥 🔥 🔥 🔥 🔥 🔥 🔥 🔥 🔥 🔥 🔥 \n"
     ]
    },
    {
     "data": {
      "text/html": [
       "<blockquote class=\"twitter-tweet\"><p lang=\"en\" dir=\"ltr\">Dilbert 2009: Funny Not Funny 😯 <a href=\"https://twitter.com/hashtag/Tbt?src=hash&amp;ref_src=twsrc%5Etfw\">#Tbt</a> <a href=\"https://twitter.com/hashtag/CoronavirusPandemic?src=hash&amp;ref_src=twsrc%5Etfw\">#CoronavirusPandemic</a> <a href=\"https://twitter.com/hashtag/COVID19?src=hash&amp;ref_src=twsrc%5Etfw\">#COVID19</a> <a href=\"https://twitter.com/hashtag/Covid_19?src=hash&amp;ref_src=twsrc%5Etfw\">#Covid_19</a> <a href=\"https://twitter.com/hashtag/econtwitter?src=hash&amp;ref_src=twsrc%5Etfw\">#econtwitter</a> <a href=\"https://twitter.com/hashtag/economy?src=hash&amp;ref_src=twsrc%5Etfw\">#economy</a> <a href=\"https://twitter.com/hashtag/thursdayvibes?src=hash&amp;ref_src=twsrc%5Etfw\">#thursdayvibes</a> <a href=\"https://twitter.com/hashtag/ThrowbackThursday?src=hash&amp;ref_src=twsrc%5Etfw\">#ThrowbackThursday</a> <a href=\"https://twitter.com/ScottAdamsSays?ref_src=twsrc%5Etfw\">@ScottAdamsSays</a> <a href=\"https://t.co/mpt0DYGeON\">pic.twitter.com/mpt0DYGeON</a></p>&mdash; Evan Kirstel #RemoteWork at #HPEDISCOVER (@EvanKirstel) <a href=\"https://twitter.com/EvanKirstel/status/1238236788331810817?ref_src=twsrc%5Etfw\">March 12, 2020</a></blockquote>\n",
       "<script async src=\"https://platform.twitter.com/widgets.js\" charset=\"utf-8\"></script>\n"
      ],
      "text/plain": [
       "<IPython.core.display.HTML object>"
      ]
     },
     "metadata": {},
     "output_type": "display_data"
    },
    {
     "name": "stdout",
     "output_type": "stream",
     "text": [
      "🔥 🔥 🔥 🔥 🔥 🔥 🔥 🔥 🔥 🔥 🔥 🔥 🔥 🔥 🔥 🔥 🔥 🔥 🔥 \n"
     ]
    },
    {
     "data": {
      "text/html": [
       "<blockquote class=\"twitter-tweet\"><p lang=\"en\" dir=\"ltr\">Hey <a href=\"https://twitter.com/hashtag/EconTwitter?src=hash&amp;ref_src=twsrc%5Etfw\">#EconTwitter</a>, to explain clustering and standard error issues in difference-in-differences to my PhD students, I made this 🔃flowchart/infographic👨‍🏫. I hope this is useful to others and I hope it&#39;s correct. Any feedback? 🙏 <a href=\"https://t.co/SmqNzn3WlP\">https://t.co/SmqNzn3WlP</a> <a href=\"https://t.co/7uQx6owfkZ\">pic.twitter.com/7uQx6owfkZ</a></p>&mdash; Patrick Button🏳️‍🌈 (@ProfPButton) <a href=\"https://twitter.com/ProfPButton/status/1255721013691715585?ref_src=twsrc%5Etfw\">April 30, 2020</a></blockquote>\n",
       "<script async src=\"https://platform.twitter.com/widgets.js\" charset=\"utf-8\"></script>\n"
      ],
      "text/plain": [
       "<IPython.core.display.HTML object>"
      ]
     },
     "metadata": {},
     "output_type": "display_data"
    },
    {
     "name": "stdout",
     "output_type": "stream",
     "text": [
      "🔥 🔥 🔥 🔥 🔥 🔥 🔥 🔥 🔥 🔥 🔥 🔥 🔥 🔥 🔥 🔥 🔥 🔥 🔥 \n"
     ]
    },
    {
     "data": {
      "text/html": [
       "<blockquote class=\"twitter-tweet\"><p lang=\"en\" dir=\"ltr\">I often work with young researchers who don&#39;t convert R&amp;Rs to publications. I definitely don’t do everything well! But I put a lot of effort into this and have a 24/24 conversion rate. So I am passing along six tips based upon my experience as an author and editor. <a href=\"https://twitter.com/hashtag/Econtwitter?src=hash&amp;ref_src=twsrc%5Etfw\">#Econtwitter</a></p>&mdash; Brian Knight (@briangknight) <a href=\"https://twitter.com/briangknight/status/1237041019344084997?ref_src=twsrc%5Etfw\">March 9, 2020</a></blockquote>\n",
       "<script async src=\"https://platform.twitter.com/widgets.js\" charset=\"utf-8\"></script>\n"
      ],
      "text/plain": [
       "<IPython.core.display.HTML object>"
      ]
     },
     "metadata": {},
     "output_type": "display_data"
    },
    {
     "name": "stdout",
     "output_type": "stream",
     "text": [
      "🔥 🔥 🔥 🔥 🔥 🔥 🔥 🔥 🔥 🔥 🔥 🔥 🔥 🔥 🔥 🔥 🔥 🔥 🔥 \n"
     ]
    },
    {
     "data": {
      "text/html": [
       "<blockquote class=\"twitter-tweet\"><p lang=\"en\" dir=\"ltr\">We need:<br><br>❌ No hiding.<br>❌ No manipulating.<br>✅ Real numbers.<br>✅ Released on time.<a href=\"https://twitter.com/hashtag/covid19?src=hash&amp;ref_src=twsrc%5Etfw\">#covid19</a> <a href=\"https://twitter.com/hashtag/unemployment?src=hash&amp;ref_src=twsrc%5Etfw\">#unemployment</a> <a href=\"https://twitter.com/hashtag/Unemployment?src=hash&amp;ref_src=twsrc%5Etfw\">#Unemployment</a> <a href=\"https://twitter.com/hashtag/econtwitter?src=hash&amp;ref_src=twsrc%5Etfw\">#econtwitter</a> <a href=\"https://t.co/k2eGHO1YkB\">https://t.co/k2eGHO1YkB</a></p>&mdash; Carolyn B. Maloney (@CarolynBMaloney) <a href=\"https://twitter.com/CarolynBMaloney/status/1241386068534013952?ref_src=twsrc%5Etfw\">March 21, 2020</a></blockquote>\n",
       "<script async src=\"https://platform.twitter.com/widgets.js\" charset=\"utf-8\"></script>\n"
      ],
      "text/plain": [
       "<IPython.core.display.HTML object>"
      ]
     },
     "metadata": {},
     "output_type": "display_data"
    },
    {
     "name": "stdout",
     "output_type": "stream",
     "text": [
      "🔥 🔥 🔥 🔥 🔥 🔥 🔥 🔥 🔥 🔥 🔥 🔥 🔥 🔥 🔥 🔥 🔥 🔥 🔥 \n"
     ]
    },
    {
     "data": {
      "text/html": [
       "<blockquote class=\"twitter-tweet\"><p lang=\"en\" dir=\"ltr\">The table is looking good. Bring it on, April! <a href=\"https://twitter.com/hashtag/COVID19?src=hash&amp;ref_src=twsrc%5Etfw\">#COVID19</a> <a href=\"https://twitter.com/hashtag/Webinars?src=hash&amp;ref_src=twsrc%5Etfw\">#Webinars</a> <a href=\"https://twitter.com/hashtag/EconTwitter?src=hash&amp;ref_src=twsrc%5Etfw\">#EconTwitter</a> <a href=\"https://t.co/4k9PhhbiBa\">https://t.co/4k9PhhbiBa</a> <a href=\"https://t.co/LSIGW5lqlt\">pic.twitter.com/LSIGW5lqlt</a></p>&mdash; Marta Lopes (@mcardosolopes) <a href=\"https://twitter.com/mcardosolopes/status/1245287705405198337?ref_src=twsrc%5Etfw\">April 1, 2020</a></blockquote>\n",
       "<script async src=\"https://platform.twitter.com/widgets.js\" charset=\"utf-8\"></script>\n"
      ],
      "text/plain": [
       "<IPython.core.display.HTML object>"
      ]
     },
     "metadata": {},
     "output_type": "display_data"
    },
    {
     "name": "stdout",
     "output_type": "stream",
     "text": [
      "🔥 🔥 🔥 🔥 🔥 🔥 🔥 🔥 🔥 🔥 🔥 🔥 🔥 🔥 🔥 🔥 🔥 🔥 🔥 \n"
     ]
    },
    {
     "data": {
      "text/html": [
       "<blockquote class=\"twitter-tweet\"><p lang=\"en\" dir=\"ltr\">People are making a fuss over the Cuba statements of <a href=\"https://twitter.com/BernieSanders?ref_src=twsrc%5Etfw\">@BernieSanders</a>. Yes, Cuba is a dictatorship but there is good healthcare and good education. Can we sort the wheat from the chaff! The answer is &quot;No&quot; <a href=\"https://twitter.com/hashtag/econtwitter?src=hash&amp;ref_src=twsrc%5Etfw\">#econtwitter</a> -- lets do the economics of dictatorships here</p>&mdash; Vincent (Economic History) Geloso (@VincentGeloso) <a href=\"https://twitter.com/VincentGeloso/status/1232302565020381184?ref_src=twsrc%5Etfw\">February 25, 2020</a></blockquote>\n",
       "<script async src=\"https://platform.twitter.com/widgets.js\" charset=\"utf-8\"></script>\n"
      ],
      "text/plain": [
       "<IPython.core.display.HTML object>"
      ]
     },
     "metadata": {},
     "output_type": "display_data"
    },
    {
     "name": "stdout",
     "output_type": "stream",
     "text": [
      "🔥 🔥 🔥 🔥 🔥 🔥 🔥 🔥 🔥 🔥 🔥 🔥 🔥 🔥 🔥 🔥 🔥 🔥 🔥 \n"
     ]
    },
    {
     "data": {
      "text/html": [
       "<blockquote class=\"twitter-tweet\"><p lang=\"en\" dir=\"ltr\">I know it&#39;s not as popular as <a href=\"https://twitter.com/hashtag/EconTwitter?src=hash&amp;ref_src=twsrc%5Etfw\">#EconTwitter</a>, but the silence of <a href=\"https://twitter.com/hashtag/TaxTwitter?src=hash&amp;ref_src=twsrc%5Etfw\">#TaxTwitter</a> on systemic racism is equally as disturbing &amp; disappointing. We all know the tax system is not immune to racism. <br><br>Here&#39;s some research that should be required reading for all, not just tax experts:</p>&mdash; Brakeyshia R. Samms (@BrakeyshiaSamms) <a href=\"https://twitter.com/BrakeyshiaSamms/status/1267491313517240321?ref_src=twsrc%5Etfw\">June 1, 2020</a></blockquote>\n",
       "<script async src=\"https://platform.twitter.com/widgets.js\" charset=\"utf-8\"></script>\n"
      ],
      "text/plain": [
       "<IPython.core.display.HTML object>"
      ]
     },
     "metadata": {},
     "output_type": "display_data"
    },
    {
     "name": "stdout",
     "output_type": "stream",
     "text": [
      "🔥 🔥 🔥 🔥 🔥 🔥 🔥 🔥 🔥 🔥 🔥 🔥 🔥 🔥 🔥 🔥 🔥 🔥 🔥 \n"
     ]
    },
    {
     "data": {
      "text/html": [
       "<blockquote class=\"twitter-tweet\"><p lang=\"en\" dir=\"ltr\">So I see a certain stream of <a href=\"https://twitter.com/hashtag/econtwitter?src=hash&amp;ref_src=twsrc%5Etfw\">#econtwitter</a> has lots its mind over <a href=\"https://twitter.com/AOC?ref_src=twsrc%5Etfw\">@AOC</a>&#39;s calling out of an important etymological dimension of human capital. And you wonder why people perceive econ to be hostile to critical thinking on race.</p>&mdash; W.E.B. DuBoiz 2 Men (@shom_mazumder) <a href=\"https://twitter.com/shom_mazumder/status/1265678659421122560?ref_src=twsrc%5Etfw\">May 27, 2020</a></blockquote>\n",
       "<script async src=\"https://platform.twitter.com/widgets.js\" charset=\"utf-8\"></script>\n"
      ],
      "text/plain": [
       "<IPython.core.display.HTML object>"
      ]
     },
     "metadata": {},
     "output_type": "display_data"
    },
    {
     "name": "stdout",
     "output_type": "stream",
     "text": [
      "🔥 🔥 🔥 🔥 🔥 🔥 🔥 🔥 🔥 🔥 🔥 🔥 🔥 🔥 🔥 🔥 🔥 🔥 🔥 \n"
     ]
    },
    {
     "data": {
      "text/html": [
       "<blockquote class=\"twitter-tweet\"><p lang=\"en\" dir=\"ltr\">Starting an open-ended conversation for faculty who are taking their courses online in a hurry.  What are tips and tricks? What challenges are you facing? <a href=\"https://twitter.com/hashtag/econtwitter?src=hash&amp;ref_src=twsrc%5Etfw\">#econtwitter</a></p>&mdash; Susan Athey (@Susan_Athey) <a href=\"https://twitter.com/Susan_Athey/status/1236335681879691264?ref_src=twsrc%5Etfw\">March 7, 2020</a></blockquote>\n",
       "<script async src=\"https://platform.twitter.com/widgets.js\" charset=\"utf-8\"></script>\n"
      ],
      "text/plain": [
       "<IPython.core.display.HTML object>"
      ]
     },
     "metadata": {},
     "output_type": "display_data"
    },
    {
     "name": "stdout",
     "output_type": "stream",
     "text": [
      "🔥 🔥 🔥 🔥 🔥 🔥 🔥 🔥 🔥 🔥 🔥 🔥 🔥 🔥 🔥 🔥 🔥 🔥 🔥 \n"
     ]
    },
    {
     "data": {
      "text/html": [
       "<blockquote class=\"twitter-tweet\"><p lang=\"en\" dir=\"ltr\">The Covid-19 shock almost caused a financial crisis. Central banks reacted aggressively to stop the free fall. My research with Ricardo Caballero sheds light on these events. Long thread! 1/N <a href=\"https://twitter.com/hashtag/EconTwitter?src=hash&amp;ref_src=twsrc%5Etfw\">#EconTwitter</a> <br> <br>    VoxEU <a href=\"https://t.co/hCELLFzDW6\">https://t.co/hCELLFzDW6</a><br><br>    Paper <a href=\"https://t.co/s4m9adnfQW\">https://t.co/s4m9adnfQW</a> <a href=\"https://t.co/x8ZqV5bAVd\">pic.twitter.com/x8ZqV5bAVd</a></p>&mdash; Alp Simsek (@alpsimsek_econ) <a href=\"https://twitter.com/alpsimsek_econ/status/1258856727237349377?ref_src=twsrc%5Etfw\">May 8, 2020</a></blockquote>\n",
       "<script async src=\"https://platform.twitter.com/widgets.js\" charset=\"utf-8\"></script>\n"
      ],
      "text/plain": [
       "<IPython.core.display.HTML object>"
      ]
     },
     "metadata": {},
     "output_type": "display_data"
    },
    {
     "name": "stdout",
     "output_type": "stream",
     "text": [
      "🔥 🔥 🔥 🔥 🔥 🔥 🔥 🔥 🔥 🔥 🔥 🔥 🔥 🔥 🔥 🔥 🔥 🔥 🔥 \n"
     ]
    },
    {
     "data": {
      "text/html": [
       "<blockquote class=\"twitter-tweet\"><p lang=\"en\" dir=\"ltr\">Spatial inequality is concerning, but we don&#39;t yet fully understand all forces that contribute to it. In this new paper (with <a href=\"https://twitter.com/pa_balland?ref_src=twsrc%5Etfw\">@pa_balland</a> et al), we find that spatial concentration is larger for complex economic activities. (thread) <a href=\"https://t.co/2QLxMbk1ze\">https://t.co/2QLxMbk1ze</a> <a href=\"https://twitter.com/hashtag/EconTwitter?src=hash&amp;ref_src=twsrc%5Etfw\">#EconTwitter</a> <a href=\"https://t.co/AyTWo2YrcT\">pic.twitter.com/AyTWo2YrcT</a></p>&mdash; César A. Hidalgo (@cesifoti) <a href=\"https://twitter.com/cesifoti/status/1216795108500279296?ref_src=twsrc%5Etfw\">January 13, 2020</a></blockquote>\n",
       "<script async src=\"https://platform.twitter.com/widgets.js\" charset=\"utf-8\"></script>\n"
      ],
      "text/plain": [
       "<IPython.core.display.HTML object>"
      ]
     },
     "metadata": {},
     "output_type": "display_data"
    },
    {
     "name": "stdout",
     "output_type": "stream",
     "text": [
      "🔥 🔥 🔥 🔥 🔥 🔥 🔥 🔥 🔥 🔥 🔥 🔥 🔥 🔥 🔥 🔥 🔥 🔥 🔥 \n"
     ]
    },
    {
     "data": {
      "text/html": [
       "<blockquote class=\"twitter-tweet\"><p lang=\"en\" dir=\"ltr\"><a href=\"https://twitter.com/hashtag/Econtwitter?src=hash&amp;ref_src=twsrc%5Etfw\">#Econtwitter</a> I&#39;m going to organize weekly seminars in urban and in environmental economics. (Starting week of 4/6 or 4/13).<br><br>I&#39;ll need help! [Please rt!]<br><br>1/n</p>&mdash; Christopher Severen (@ChrisSeveren) <a href=\"https://twitter.com/ChrisSeveren/status/1243590528559652869?ref_src=twsrc%5Etfw\">March 27, 2020</a></blockquote>\n",
       "<script async src=\"https://platform.twitter.com/widgets.js\" charset=\"utf-8\"></script>\n"
      ],
      "text/plain": [
       "<IPython.core.display.HTML object>"
      ]
     },
     "metadata": {},
     "output_type": "display_data"
    },
    {
     "name": "stdout",
     "output_type": "stream",
     "text": [
      "🔥 🔥 🔥 🔥 🔥 🔥 🔥 🔥 🔥 🔥 🔥 🔥 🔥 🔥 🔥 🔥 🔥 🔥 🔥 \n"
     ]
    },
    {
     "data": {
      "text/html": [
       "<blockquote class=\"twitter-tweet\"><p lang=\"en\" dir=\"ltr\">I asked if there were climate scientists who could review <a href=\"https://twitter.com/hashtag/covid19?src=hash&amp;ref_src=twsrc%5Etfw\">#covid19</a> papers. Many responded 😍. Now I reach out to <a href=\"https://twitter.com/hashtag/EconTwitter?src=hash&amp;ref_src=twsrc%5Etfw\">#EconTwitter</a>. Specifically, if you are available to *quickly* review econometrics/epidemiology research please let me know via DM or m.white@us.nature.com. Please RT!</p>&mdash; Michael White (@MWClimateSci) <a href=\"https://twitter.com/MWClimateSci/status/1240705385809367041?ref_src=twsrc%5Etfw\">March 19, 2020</a></blockquote>\n",
       "<script async src=\"https://platform.twitter.com/widgets.js\" charset=\"utf-8\"></script>\n"
      ],
      "text/plain": [
       "<IPython.core.display.HTML object>"
      ]
     },
     "metadata": {},
     "output_type": "display_data"
    },
    {
     "name": "stdout",
     "output_type": "stream",
     "text": [
      "🔥 🔥 🔥 🔥 🔥 🔥 🔥 🔥 🔥 🔥 🔥 🔥 🔥 🔥 🔥 🔥 🔥 🔥 🔥 \n"
     ]
    },
    {
     "data": {
      "text/html": [
       "<blockquote class=\"twitter-tweet\"><p lang=\"en\" dir=\"ltr\">Preliminary data from working paper series submissions suggest that female economists are in fact disproportionately hurt by the disruptions created by COVID-19 <a href=\"https://twitter.com/hashtag/EconTwitter?src=hash&amp;ref_src=twsrc%5Etfw\">#EconTwitter</a> <a href=\"https://twitter.com/hashtag/coronapublicationgap?src=hash&amp;ref_src=twsrc%5Etfw\">#coronapublicationgap</a>  <a href=\"https://t.co/P5tvwfXGA9\">https://t.co/P5tvwfXGA9</a></p>&mdash; Olga Shurchkov (@OlgaShurchkov) <a href=\"https://twitter.com/OlgaShurchkov/status/1253413855335596043?ref_src=twsrc%5Etfw\">April 23, 2020</a></blockquote>\n",
       "<script async src=\"https://platform.twitter.com/widgets.js\" charset=\"utf-8\"></script>\n"
      ],
      "text/plain": [
       "<IPython.core.display.HTML object>"
      ]
     },
     "metadata": {},
     "output_type": "display_data"
    },
    {
     "name": "stdout",
     "output_type": "stream",
     "text": [
      "🔥 🔥 🔥 🔥 🔥 🔥 🔥 🔥 🔥 🔥 🔥 🔥 🔥 🔥 🔥 🔥 🔥 🔥 🔥 \n"
     ]
    },
    {
     "data": {
      "text/html": [
       "<blockquote class=\"twitter-tweet\"><p lang=\"en\" dir=\"ltr\">Are industrialized nations richer because or despite industrialization?<br><br>Roots of prosperity: factors that enabled industrialization &amp; not industrialization per se<br><br>LDC better-off investing in human capital &amp; skill-intensive sectors<a href=\"https://t.co/NbRcxcKaKr\">https://t.co/NbRcxcKaKr</a><a href=\"https://twitter.com/hashtag/EconTwitter?src=hash&amp;ref_src=twsrc%5Etfw\">#EconTwitter</a></p>&mdash; Oded Galor (@GalorOded) <a href=\"https://twitter.com/GalorOded/status/1214607456837521408?ref_src=twsrc%5Etfw\">January 7, 2020</a></blockquote>\n",
       "<script async src=\"https://platform.twitter.com/widgets.js\" charset=\"utf-8\"></script>\n"
      ],
      "text/plain": [
       "<IPython.core.display.HTML object>"
      ]
     },
     "metadata": {},
     "output_type": "display_data"
    },
    {
     "name": "stdout",
     "output_type": "stream",
     "text": [
      "🔥 🔥 🔥 🔥 🔥 🔥 🔥 🔥 🔥 🔥 🔥 🔥 🔥 🔥 🔥 🔥 🔥 🔥 🔥 \n"
     ]
    },
    {
     "data": {
      "text/html": [
       "<blockquote class=\"twitter-tweet\"><p lang=\"en\" dir=\"ltr\">Over the past weeks, I have collected trackers for <a href=\"https://twitter.com/hashtag/COVID19?src=hash&amp;ref_src=twsrc%5Etfw\">#COVID19</a> policy responses and data across countries. Today, I introduce: A tracker of trackers: COVID-19 policy responses and data. An explanatory thread 👇 1/..<br>Please share! <a href=\"https://twitter.com/hashtag/socpolcovid19?src=hash&amp;ref_src=twsrc%5Etfw\">#socpolcovid19</a> <a href=\"https://twitter.com/hashtag/EconTwitter?src=hash&amp;ref_src=twsrc%5Etfw\">#EconTwitter</a><a href=\"https://t.co/KBOo8HZOCn\">https://t.co/KBOo8HZOCn</a> <a href=\"https://t.co/hj09ezUzY5\">pic.twitter.com/hj09ezUzY5</a></p>&mdash; Lukas Lehner (@LukasLehner_) <a href=\"https://twitter.com/LukasLehner_/status/1251048561946628104?ref_src=twsrc%5Etfw\">April 17, 2020</a></blockquote>\n",
       "<script async src=\"https://platform.twitter.com/widgets.js\" charset=\"utf-8\"></script>\n"
      ],
      "text/plain": [
       "<IPython.core.display.HTML object>"
      ]
     },
     "metadata": {},
     "output_type": "display_data"
    }
   ],
   "source": [
    "# A list of the tweet urls, sorted by retweet count.\n",
    "rt_links = df.sort_values(by= 'retweets_count', ascending = False)['link'].values\n",
    "\n",
    "for url in rt_links[:20]:\n",
    "    print('🔥 ' * 19)\n",
    "    show_tweet(url)"
   ]
  },
  {
   "cell_type": "code",
   "execution_count": 15,
   "metadata": {},
   "outputs": [
    {
     "data": {
      "text/plain": [
       "<matplotlib.axes._subplots.AxesSubplot at 0x112ab6d10>"
      ]
     },
     "execution_count": 15,
     "metadata": {},
     "output_type": "execute_result"
    },
    {
     "data": {
      "image/png": "[encoded data removed]",
      "text/plain": [
       "<Figure size 432x288 with 1 Axes>"
      ]
     },
     "metadata": {
      "needs_background": "light"
     },
     "output_type": "display_data"
    }
   ],
   "source": [
    "%matplotlib inline\n",
    "\n",
    "df['date'].value_counts().plot()"
   ]
  },
  {
   "cell_type": "code",
   "execution_count": 16,
   "metadata": {},
   "outputs": [],
   "source": [
    "df.to_csv('df_econtwitter.csv')"
   ]
  }
 ],
 "metadata": {
  "kernelspec": {
   "display_name": "Python 3",
   "language": "python",
   "name": "python3"
  },
  "language_info": {
   "codemirror_mode": {
    "name": "ipython",
    "version": 3
   },
   "file_extension": ".py",
   "mimetype": "text/x-python",
   "name": "python",
   "nbconvert_exporter": "python",
   "pygments_lexer": "ipython3",
   "version": "3.7.6"
  }
 },
 "nbformat": 4,
 "nbformat_minor": 4
}
